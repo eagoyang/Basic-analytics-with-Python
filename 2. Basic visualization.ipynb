{
 "cells": [
  {
   "cell_type": "code",
   "execution_count": 1,
   "id": "14ea6cf2-6ed5-494b-ac93-0faafd7d8c38",
   "metadata": {},
   "outputs": [],
   "source": [
    "import pandas as pd\n",
    "from pandas import DataFrame"
   ]
  },
  {
   "cell_type": "code",
   "execution_count": 3,
   "id": "1d3d3622-617f-41a1-8f92-d5b385e0fc27",
   "metadata": {},
   "outputs": [
    {
     "data": {
      "text/html": [
       "<div>\n",
       "<style scoped>\n",
       "    .dataframe tbody tr th:only-of-type {\n",
       "        vertical-align: middle;\n",
       "    }\n",
       "\n",
       "    .dataframe tbody tr th {\n",
       "        vertical-align: top;\n",
       "    }\n",
       "\n",
       "    .dataframe thead th {\n",
       "        text-align: right;\n",
       "    }\n",
       "</style>\n",
       "<table border=\"1\" class=\"dataframe\">\n",
       "  <thead>\n",
       "    <tr style=\"text-align: right;\">\n",
       "      <th></th>\n",
       "      <th>id</th>\n",
       "      <th>gender</th>\n",
       "      <th>bdate</th>\n",
       "      <th>educ</th>\n",
       "      <th>jobcat</th>\n",
       "      <th>salary</th>\n",
       "      <th>salbegin</th>\n",
       "      <th>jobtime</th>\n",
       "      <th>prevexp</th>\n",
       "      <th>minority</th>\n",
       "    </tr>\n",
       "  </thead>\n",
       "  <tbody>\n",
       "    <tr>\n",
       "      <th>0</th>\n",
       "      <td>1</td>\n",
       "      <td>m</td>\n",
       "      <td>2/3/1952</td>\n",
       "      <td>15</td>\n",
       "      <td>3</td>\n",
       "      <td>57000</td>\n",
       "      <td>27000</td>\n",
       "      <td>98</td>\n",
       "      <td>144</td>\n",
       "      <td>0</td>\n",
       "    </tr>\n",
       "    <tr>\n",
       "      <th>1</th>\n",
       "      <td>2</td>\n",
       "      <td>m</td>\n",
       "      <td>5/23/1958</td>\n",
       "      <td>16</td>\n",
       "      <td>1</td>\n",
       "      <td>40200</td>\n",
       "      <td>18750</td>\n",
       "      <td>98</td>\n",
       "      <td>36</td>\n",
       "      <td>0</td>\n",
       "    </tr>\n",
       "    <tr>\n",
       "      <th>2</th>\n",
       "      <td>3</td>\n",
       "      <td>f</td>\n",
       "      <td>7/26/1929</td>\n",
       "      <td>12</td>\n",
       "      <td>1</td>\n",
       "      <td>21450</td>\n",
       "      <td>12000</td>\n",
       "      <td>98</td>\n",
       "      <td>381</td>\n",
       "      <td>0</td>\n",
       "    </tr>\n",
       "    <tr>\n",
       "      <th>3</th>\n",
       "      <td>4</td>\n",
       "      <td>f</td>\n",
       "      <td>4/15/1947</td>\n",
       "      <td>8</td>\n",
       "      <td>1</td>\n",
       "      <td>21900</td>\n",
       "      <td>13200</td>\n",
       "      <td>98</td>\n",
       "      <td>190</td>\n",
       "      <td>0</td>\n",
       "    </tr>\n",
       "    <tr>\n",
       "      <th>4</th>\n",
       "      <td>5</td>\n",
       "      <td>m</td>\n",
       "      <td>2/9/1955</td>\n",
       "      <td>15</td>\n",
       "      <td>1</td>\n",
       "      <td>45000</td>\n",
       "      <td>21000</td>\n",
       "      <td>98</td>\n",
       "      <td>138</td>\n",
       "      <td>0</td>\n",
       "    </tr>\n",
       "  </tbody>\n",
       "</table>\n",
       "</div>"
      ],
      "text/plain": [
       "   id gender      bdate  educ  jobcat  salary  salbegin  jobtime  prevexp  \\\n",
       "0   1      m   2/3/1952    15       3   57000     27000       98      144   \n",
       "1   2      m  5/23/1958    16       1   40200     18750       98       36   \n",
       "2   3      f  7/26/1929    12       1   21450     12000       98      381   \n",
       "3   4      f  4/15/1947     8       1   21900     13200       98      190   \n",
       "4   5      m   2/9/1955    15       1   45000     21000       98      138   \n",
       "\n",
       "   minority  \n",
       "0         0  \n",
       "1         0  \n",
       "2         0  \n",
       "3         0  \n",
       "4         0  "
      ]
     },
     "execution_count": 3,
     "metadata": {},
     "output_type": "execute_result"
    }
   ],
   "source": [
    "df = pd.read_csv('/Users/kaiyang/desktop/employeedata.csv')\n",
    "df.head()"
   ]
  },
  {
   "cell_type": "code",
   "execution_count": 21,
   "id": "72d3d17c-658c-41f5-9207-53b5f8bf195f",
   "metadata": {},
   "outputs": [
    {
     "data": {
      "text/plain": [
       "34419.56751054852"
      ]
     },
     "execution_count": 21,
     "metadata": {},
     "output_type": "execute_result"
    }
   ],
   "source": [
    "df['salary'].mean()"
   ]
  },
  {
   "cell_type": "code",
   "execution_count": 23,
   "id": "3e9aff23-d4b6-4ad7-96d4-7c0330add24b",
   "metadata": {},
   "outputs": [
    {
     "data": {
      "text/html": [
       "<div>\n",
       "<style scoped>\n",
       "    .dataframe tbody tr th:only-of-type {\n",
       "        vertical-align: middle;\n",
       "    }\n",
       "\n",
       "    .dataframe tbody tr th {\n",
       "        vertical-align: top;\n",
       "    }\n",
       "\n",
       "    .dataframe thead th {\n",
       "        text-align: right;\n",
       "    }\n",
       "</style>\n",
       "<table border=\"1\" class=\"dataframe\">\n",
       "  <thead>\n",
       "    <tr style=\"text-align: right;\">\n",
       "      <th></th>\n",
       "      <th>id</th>\n",
       "      <th>educ</th>\n",
       "      <th>jobcat</th>\n",
       "      <th>salary</th>\n",
       "      <th>salbegin</th>\n",
       "      <th>jobtime</th>\n",
       "      <th>prevexp</th>\n",
       "      <th>minority</th>\n",
       "    </tr>\n",
       "  </thead>\n",
       "  <tbody>\n",
       "    <tr>\n",
       "      <th>count</th>\n",
       "      <td>474.000000</td>\n",
       "      <td>474.000000</td>\n",
       "      <td>474.000000</td>\n",
       "      <td>474.000000</td>\n",
       "      <td>474.000000</td>\n",
       "      <td>474.000000</td>\n",
       "      <td>474.000000</td>\n",
       "      <td>474.000000</td>\n",
       "    </tr>\n",
       "    <tr>\n",
       "      <th>mean</th>\n",
       "      <td>237.500000</td>\n",
       "      <td>13.491561</td>\n",
       "      <td>1.411392</td>\n",
       "      <td>34419.567511</td>\n",
       "      <td>17016.086498</td>\n",
       "      <td>81.109705</td>\n",
       "      <td>95.860759</td>\n",
       "      <td>0.219409</td>\n",
       "    </tr>\n",
       "    <tr>\n",
       "      <th>std</th>\n",
       "      <td>136.976275</td>\n",
       "      <td>2.884846</td>\n",
       "      <td>0.773201</td>\n",
       "      <td>17075.661465</td>\n",
       "      <td>7870.638154</td>\n",
       "      <td>10.060945</td>\n",
       "      <td>104.586236</td>\n",
       "      <td>0.414284</td>\n",
       "    </tr>\n",
       "    <tr>\n",
       "      <th>min</th>\n",
       "      <td>1.000000</td>\n",
       "      <td>8.000000</td>\n",
       "      <td>1.000000</td>\n",
       "      <td>15750.000000</td>\n",
       "      <td>9000.000000</td>\n",
       "      <td>63.000000</td>\n",
       "      <td>0.000000</td>\n",
       "      <td>0.000000</td>\n",
       "    </tr>\n",
       "    <tr>\n",
       "      <th>25%</th>\n",
       "      <td>119.250000</td>\n",
       "      <td>12.000000</td>\n",
       "      <td>1.000000</td>\n",
       "      <td>24000.000000</td>\n",
       "      <td>12487.500000</td>\n",
       "      <td>72.000000</td>\n",
       "      <td>19.250000</td>\n",
       "      <td>0.000000</td>\n",
       "    </tr>\n",
       "    <tr>\n",
       "      <th>50%</th>\n",
       "      <td>237.500000</td>\n",
       "      <td>12.000000</td>\n",
       "      <td>1.000000</td>\n",
       "      <td>28875.000000</td>\n",
       "      <td>15000.000000</td>\n",
       "      <td>81.000000</td>\n",
       "      <td>55.000000</td>\n",
       "      <td>0.000000</td>\n",
       "    </tr>\n",
       "    <tr>\n",
       "      <th>75%</th>\n",
       "      <td>355.750000</td>\n",
       "      <td>15.000000</td>\n",
       "      <td>1.000000</td>\n",
       "      <td>36937.500000</td>\n",
       "      <td>17490.000000</td>\n",
       "      <td>90.000000</td>\n",
       "      <td>138.750000</td>\n",
       "      <td>0.000000</td>\n",
       "    </tr>\n",
       "    <tr>\n",
       "      <th>max</th>\n",
       "      <td>474.000000</td>\n",
       "      <td>21.000000</td>\n",
       "      <td>3.000000</td>\n",
       "      <td>135000.000000</td>\n",
       "      <td>79980.000000</td>\n",
       "      <td>98.000000</td>\n",
       "      <td>476.000000</td>\n",
       "      <td>1.000000</td>\n",
       "    </tr>\n",
       "  </tbody>\n",
       "</table>\n",
       "</div>"
      ],
      "text/plain": [
       "               id        educ      jobcat         salary      salbegin  \\\n",
       "count  474.000000  474.000000  474.000000     474.000000    474.000000   \n",
       "mean   237.500000   13.491561    1.411392   34419.567511  17016.086498   \n",
       "std    136.976275    2.884846    0.773201   17075.661465   7870.638154   \n",
       "min      1.000000    8.000000    1.000000   15750.000000   9000.000000   \n",
       "25%    119.250000   12.000000    1.000000   24000.000000  12487.500000   \n",
       "50%    237.500000   12.000000    1.000000   28875.000000  15000.000000   \n",
       "75%    355.750000   15.000000    1.000000   36937.500000  17490.000000   \n",
       "max    474.000000   21.000000    3.000000  135000.000000  79980.000000   \n",
       "\n",
       "          jobtime     prevexp    minority  \n",
       "count  474.000000  474.000000  474.000000  \n",
       "mean    81.109705   95.860759    0.219409  \n",
       "std     10.060945  104.586236    0.414284  \n",
       "min     63.000000    0.000000    0.000000  \n",
       "25%     72.000000   19.250000    0.000000  \n",
       "50%     81.000000   55.000000    0.000000  \n",
       "75%     90.000000  138.750000    0.000000  \n",
       "max     98.000000  476.000000    1.000000  "
      ]
     },
     "execution_count": 23,
     "metadata": {},
     "output_type": "execute_result"
    }
   ],
   "source": [
    "df.describe()"
   ]
  },
  {
   "cell_type": "code",
   "execution_count": 25,
   "id": "7d0bbcf8-a889-4987-8b33-edccd5b36676",
   "metadata": {},
   "outputs": [],
   "source": [
    "import seaborn as sns"
   ]
  },
  {
   "cell_type": "code",
   "execution_count": 27,
   "id": "b66044cc-09f5-4455-a7fa-7e4ddc0578fe",
   "metadata": {},
   "outputs": [
    {
     "data": {
      "text/plain": [
       "<Axes: xlabel='salary', ylabel='Count'>"
      ]
     },
     "execution_count": 27,
     "metadata": {},
     "output_type": "execute_result"
    },
    {
     "data": {
      "image/png": "[encoded data removed]",
      "text/plain": [
       "<Figure size 640x480 with 1 Axes>"
      ]
     },
     "metadata": {},
     "output_type": "display_data"
    }
   ],
   "source": [
    "sns.histplot(x=df['salary']) # If not ; then returns something unnecessary"
   ]
  },
  {
   "cell_type": "code",
   "execution_count": 29,
   "id": "d8d28bbd-e449-4612-a457-da10bb6b74a6",
   "metadata": {},
   "outputs": [
    {
     "data": {
      "image/png": "[encoded data removed]",
      "text/plain": [
       "<Figure size 640x480 with 1 Axes>"
      ]
     },
     "metadata": {},
     "output_type": "display_data"
    }
   ],
   "source": [
    "sns.histplot(x=df['salary'], bins=10, kde=True);"
   ]
  },
  {
   "cell_type": "code",
   "execution_count": 31,
   "id": "d961cae3-fefc-4766-af1a-816e13ce924f",
   "metadata": {},
   "outputs": [
    {
     "data": {
      "image/png": "[encoded data removed]",
      "text/plain": [
       "<Figure size 640x480 with 1 Axes>"
      ]
     },
     "metadata": {},
     "output_type": "display_data"
    }
   ],
   "source": [
    "sns.histplot(x=df['salary'], \n",
    "             bins=10, kde=False,\n",
    "             stat=\"probability\",\n",
    "             color='green' \n",
    "            );"
   ]
  },
  {
   "cell_type": "code",
   "execution_count": null,
   "id": "9d4d62bb-8899-4a71-a494-9c2339560ae5",
   "metadata": {},
   "outputs": [],
   "source": []
  }
 ],
 "metadata": {
  "kernelspec": {
   "display_name": "Python [conda env:base] *",
   "language": "python",
   "name": "conda-base-py"
  },
  "language_info": {
   "codemirror_mode": {
    "name": "ipython",
    "version": 3
   },
   "file_extension": ".py",
   "mimetype": "text/x-python",
   "name": "python",
   "nbconvert_exporter": "python",
   "pygments_lexer": "ipython3",
   "version": "3.12.7"
  }
 },
 "nbformat": 4,
 "nbformat_minor": 5
}
